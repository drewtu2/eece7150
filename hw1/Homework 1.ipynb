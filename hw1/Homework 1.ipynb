{
 "cells": [
  {
   "cell_type": "markdown",
   "metadata": {},
   "source": [
    "# HW 1 Due Jan 21, 12 Noon\n",
    "\n",
    "In the class we looked at problem 2 (in Chapter 2 of the book Probabilistic Robots be Thrun et al – see attached images) and solved it using a finite state machine model. We also pointed out that solutions for some of the problems in the book exist on the following site\n",
    "\n",
    "https://github.com/pptacher/probabilistic_robotics"
   ]
  },
  {
   "cell_type": "markdown",
   "metadata": {},
   "source": [
    "### 2(b)  Write up a general purpose simulator for the state transition matrix"
   ]
  },
  {
   "cell_type": "markdown",
   "metadata": {},
   "source": [
    "- Given: markov transition table\n",
    "- Goal: function that given a number of days, produces a series of weather states that obeys the transition table\n",
    "\n",
    "Steps:\n",
    "- create a structure representing the transitions between states\n",
    "- for each day,\n",
    "    - generate a random number\n",
    "    - transition to the state given by that number\n",
    "    - add new state to the list of states\n",
    "\n"
   ]
  },
  {
   "cell_type": "markdown",
   "metadata": {},
   "source": [
    "Create Structure representing this transition matrix\n",
    "\n",
    "|Weather| Sunny | Cloudy | Rainy  |\n",
    "|-------|-------| -------|--------|\n",
    "| Sunny | .8    | .2     | 0      |\n",
    "| Cloudy| .4    | .4     | 0.2    |\n",
    "| Rainy | .2    | .6     | 0.2    |"
   ]
  },
  {
   "cell_type": "code",
   "execution_count": 1,
   "metadata": {},
   "outputs": [],
   "source": [
    "import random\n",
    "random.seed(0);\n"
   ]
  },
  {
   "cell_type": "code",
   "execution_count": 2,
   "metadata": {},
   "outputs": [],
   "source": [
    "class Weather(object):\n",
    "    SUNNY = 0\n",
    "    CLOUDY = 1\n",
    "    RAINY = 2\n",
    "    \n",
    "    def __init__(self, transitions, start=SUNNY):\n",
    "        self.transition_matrix = transitions\n",
    "        self.today = start\n",
    "    \n",
    "    def _validate_weather(self, weather):\n",
    "        \"\"\" Raises exception if invalid weather \"\"\"\n",
    "        if weather not in [self.SUNNY, self.CLOUDY, self.RAINY]:\n",
    "            raise Exception(\"Invalid argument!\")\n",
    "    def get_transition_matrix(self):\n",
    "        \"\"\"Getter\"\"\"\n",
    "        return np.array(self.transition_matrix)\n",
    "    def set_today(self, weather):\n",
    "        \"\"\"Sets today's weather\"\"\"\n",
    "        self._validate_weather(weather)\n",
    "            \n",
    "        self.today = weather\n",
    "\n",
    "    def get_probability(self, today, tomorrow):\n",
    "        \"\"\"Returns the probability of the given transition\"\"\"\n",
    "        self._validate_weather(today)\n",
    "        self._validate_weather(tomorrow)\n",
    "        \n",
    "        return self.transition_matrix[today][tomorrow]\n",
    "\n",
    "    def get_tomorrows_options(self, today):\n",
    "        self._validate_weather(today)\n",
    "        return np.array(self.transition_matrix[today])\n",
    "        \n",
    "    def next_day(self):\n",
    "        \"\"\"Returns Tomorrow's weather given today's weather based\n",
    "        on the probabilities\"\"\"\n",
    "        r = random.random() # Number from [0.0, 1.0)\n",
    "        transitions = transition_matrix[self.today]\n",
    "        \n",
    "        # See if tomorrow is SUNNY\n",
    "        prob = transitions[self.SUNNY]\n",
    "        if r < prob:\n",
    "            return self.SUNNY\n",
    "        \n",
    "        # See if tomorrow is CLOUDY\n",
    "        prob += transitions[self.CLOUDY]\n",
    "        if r < prob:\n",
    "            return self.CLOUDY\n",
    "        \n",
    "        # Tomorrow must be RAINY\n",
    "        return self.RAINY\n",
    "    \n",
    "    def get_sequence(self, num_days = 10):\n",
    "        \"\"\"Return a sequence of weathers based on the transition matrix\"\"\"\n",
    "        sequence = [self.today]\n",
    "\n",
    "        for i in range(num_days - 1):\n",
    "            tomorrow = self.next_day()\n",
    "            sequence.append(tomorrow)\n",
    "\n",
    "            self.set_today(tomorrow)\n",
    "\n",
    "        return sequence\n"
   ]
  },
  {
   "cell_type": "code",
   "execution_count": 3,
   "metadata": {},
   "outputs": [],
   "source": [
    "transition_matrix = [\n",
    "    [.8, .2, 0],\n",
    "    [.4, .4, .2],\n",
    "    [.2, .6, .2]\n",
    "]\n",
    "\n",
    "weather_transitions = Weather(transition_matrix)\n"
   ]
  },
  {
   "cell_type": "code",
   "execution_count": 4,
   "metadata": {},
   "outputs": [
    {
     "name": "stdout",
     "output_type": "stream",
     "text": [
      "[0, 1, 1, 1, 0, 0, 0, 0, 0, 0, 0, 1, 1, 0, 0, 0, 0, 1, 2, 2, 2, 1, 1, 2, 1, 1, 0, 0, 0, 1, 2, 1, 2, 1, 2, 1, 0, 0, 0, 1, 1, 0, 0, 1, 0, 0, 1, 0, 0, 0, 1, 2, 1, 0, 0, 0, 1, 0, 0, 0, 0, 1, 1, 2, 1, 1, 1, 1, 0, 0, 0, 0, 0, 0, 0, 0, 0, 0, 1, 2, 2, 2, 2, 1, 0, 0, 0, 1, 2, 2, 1, 2, 1, 1, 1, 2, 2, 1, 0, 0]\n"
     ]
    }
   ],
   "source": [
    "num_runs = 100\n",
    "sequence = weather_transitions.get_sequence(num_runs);\n",
    "    \n",
    "print(sequence)\n",
    "    "
   ]
  },
  {
   "cell_type": "markdown",
   "metadata": {},
   "source": [
    "### (c) Use your simulator to determine the stationary distribution of this Markov chain. In particular I would like everyone to address \n",
    "1. How you initialize the simulation \n",
    "2. How many transitions you consider before taking a result and \n",
    "3. How many simulation runs you conducted to arrive at the statistics for the stationary distribution.\n",
    "\n",
    "NOTE: The answer for the stationary distribution is already available in the solutions (link above) but I would like you think about how fast you can converge on the results  "
   ]
  },
  {
   "cell_type": "code",
   "execution_count": 5,
   "metadata": {},
   "outputs": [],
   "source": [
    "# We need matplotlib to plot the distributions\n",
    "import matplotlib.pyplot as plt\n",
    "import numpy as np"
   ]
  },
  {
   "cell_type": "markdown",
   "metadata": {},
   "source": [
    "Create this helper function to plot a sequence. \n",
    "\n",
    "We care about\n",
    "1. Number of Runs\n",
    "2. Percent of each weather w.r.t. all days"
   ]
  },
  {
   "cell_type": "code",
   "execution_count": 6,
   "metadata": {},
   "outputs": [],
   "source": [
    "def sequence_to_pecents(sequence):\n",
    "    \"\"\"Calculates a dict with the percent of each weather\"\"\"\n",
    "    results = {\n",
    "        \"sunny\": sequence.count(Weather.SUNNY)/len(sequence),\n",
    "        \"cloudy\": sequence.count(Weather.CLOUDY)/len(sequence),\n",
    "        \"rainy\": sequence.count(Weather.RAINY)/len(sequence)\n",
    "    }\n",
    "    return results\n",
    "\n",
    "def plot_distribution(results):\n",
    "    \"\"\"Plots a histogram of how many times each day occurs\"\"\" \n",
    "\n",
    "    names = list(results.keys())\n",
    "    values = list(results.values())\n",
    "\n",
    "    ax = plt.bar(names, values)\n",
    "    plt.title(\"Number of Days of a Given Weather for {} Days\".format(len(sequence)))\n",
    "    plt.xlabel(\"Weather\")\n",
    "    plt.ylabel(\"Percentage\")\n",
    "    \n",
    "    labels = values\n",
    "    \n",
    "    rects = ax.patches\n",
    "    for rect, label in zip(rects, labels):\n",
    "        height = rect.get_height()\n",
    "        plt.text(rect.get_x() + rect.get_width() / 2, height, label,\n",
    "                ha='center', va='bottom')\n",
    "    return results"
   ]
  },
  {
   "cell_type": "markdown",
   "metadata": {},
   "source": [
    "Given that function, lets see how the distribution changes as the number of days increases. "
   ]
  },
  {
   "cell_type": "code",
   "execution_count": 7,
   "metadata": {},
   "outputs": [
    {
     "data": {
      "image/png": "[encoded data removed]",
      "text/plain": [
       "<Figure size 432x288 with 1 Axes>"
      ]
     },
     "metadata": {
      "needs_background": "light"
     },
     "output_type": "display_data"
    },
    {
     "data": {
      "image/png": "[encoded data removed]",
      "text/plain": [
       "<Figure size 432x288 with 1 Axes>"
      ]
     },
     "metadata": {
      "needs_background": "light"
     },
     "output_type": "display_data"
    },
    {
     "data": {
      "image/png": "[encoded data removed]",
      "text/plain": [
       "<Figure size 432x288 with 1 Axes>"
      ]
     },
     "metadata": {
      "needs_background": "light"
     },
     "output_type": "display_data"
    }
   ],
   "source": [
    "num_days = [pow(10, x) for x in range(1, 4)] # Each run is an order of magnitude more in num days\n",
    "\n",
    "for iteration, seq_len in enumerate(num_days):\n",
    "    # Generate the sequence\n",
    "    sequence = weather_transitions.get_sequence(seq_len) \n",
    "    # Get the percentage of each\n",
    "    percent = sequence_to_pecents(sequence) \n",
    "    \n",
    "    plt.figure(iteration)\n",
    "    plot_distribution(percent)\n",
    "\n",
    "    # Reset the transitions\n",
    "    weather_transitions.set_today(Weather.SUNNY)"
   ]
  },
  {
   "cell_type": "markdown",
   "metadata": {},
   "source": [
    "More useful than the distribution at each number of days is a plot of how the distribution changes as the number of days increases"
   ]
  },
  {
   "cell_type": "code",
   "execution_count": 8,
   "metadata": {},
   "outputs": [],
   "source": [
    "# Generate the data we need to use.\n",
    "num_days = range(10, 10000, 100)\n",
    "results = {}\n",
    "\n",
    "for seq_len in num_days:\n",
    "    # Generate the sequence\n",
    "    sequence = weather_transitions.get_sequence(seq_len) \n",
    "    # Get the percentage of each\n",
    "    percent = sequence_to_pecents(sequence) \n",
    "    \n",
    "    results[seq_len] = percent\n",
    "    \n",
    "    # Reset the transitions\n",
    "    weather_transitions.set_today(Weather.SUNNY)\n"
   ]
  },
  {
   "cell_type": "markdown",
   "metadata": {},
   "source": [
    "## Results is a dictionary\n",
    "- key = number of days, \n",
    "- value = the distribution \n",
    "\n",
    "## Distribution\n",
    "- key: one of ['sunny', 'cloudy', 'rainy']\n",
    "- value: a float representing the percentage"
   ]
  },
  {
   "cell_type": "code",
   "execution_count": 9,
   "metadata": {},
   "outputs": [
    {
     "data": {
      "text/plain": [
       "<Figure size 432x288 with 0 Axes>"
      ]
     },
     "metadata": {},
     "output_type": "display_data"
    },
    {
     "data": {
      "image/png": "[encoded data removed]",
      "text/plain": [
       "<Figure size 432x288 with 1 Axes>"
      ]
     },
     "metadata": {
      "needs_background": "light"
     },
     "output_type": "display_data"
    }
   ],
   "source": [
    "powers = results.keys() # X Axis\n",
    "distributions = results.values()\n",
    "\n",
    "# Y Axes\n",
    "sunnys = [percent['sunny'] for percent in distributions]\n",
    "cloudys = [percent['cloudy'] for percent in distributions]\n",
    "rainys = [percent['rainy'] for percent in distributions]\n",
    "\n",
    "# Make the Figure\n",
    "plt.figure()\n",
    "fig, ax = plt.subplots()\n",
    "ax.plot(powers, sunnys, label=\"sunny\")\n",
    "ax.plot(powers, cloudys, label=\"cloudy\")\n",
    "ax.plot(powers, rainys, label=\"rainys\")\n",
    "ax.legend()\n",
    "plt.title(\"Percent Days of a Given Weather vs Length of Sequence\")\n",
    "plt.xlabel(\"Number of Days in a sequence\")\n",
    "plt.ylabel(\"Percentage\")\n",
    "plt.show()"
   ]
  },
  {
   "cell_type": "markdown",
   "metadata": {},
   "source": [
    "From this graph, we can see the distribution of days eventually converges. To get a general idea of what the overall distribution is, we can take the average of all of our runs."
   ]
  },
  {
   "cell_type": "code",
   "execution_count": 10,
   "metadata": {},
   "outputs": [
    {
     "name": "stdout",
     "output_type": "stream",
     "text": [
      "Average sunny days: 0.6396823670787023\n",
      "Average cloudy days: 0.28865945670756404\n",
      "Average rainy days: 0.0716581762137337\n"
     ]
    }
   ],
   "source": [
    "# Print the results\n",
    "print(\"Average sunny days: {}\".format(np.mean(sunnys)))\n",
    "print(\"Average cloudy days: {}\".format(np.mean(cloudys)))\n",
    "print(\"Average rainy days: {}\".format(np.mean(rainys)))"
   ]
  },
  {
   "cell_type": "markdown",
   "metadata": {},
   "source": [
    "Experimentally, we should continue increasing the number of iterations we take the sample over until the average \n",
    "percent of days doesn't change to an realistic amount. "
   ]
  },
  {
   "cell_type": "markdown",
   "metadata": {},
   "source": [
    "### (d) The solution is derived via a closed analytical form. Can you do the diagonalization of the state matrix A with python to come up with the same result."
   ]
  },
  {
   "cell_type": "markdown",
   "metadata": {},
   "source": [
    "The stationary distribution of a Markov chain is a distribution that remains unchanged when the transition vector is applied to it. [1]\n",
    "\n",
    "As described by [1], the following equation holds. \n",
    "\n",
    "\\begin{equation*}\n",
    "\\pi=P\\pi\n",
    "\\end{equation*}\n",
    "\n",
    "where $\\pi$ represents the probability distribution and $P$ represents the transition matrix. \n",
    "\n",
    "This equation is of the form\n",
    "\\begin{equation*}\n",
    "\\lambda v = Mv \n",
    "\\end{equation*}\n",
    "\n",
    "where $\\lambda=1$. \n",
    "\n",
    "The main difference between the equations is that $P$ is a row vector: each row of the matrix represents a collection of data (summing to 1) while $M$ is grouped by columns. By transposing the stationary distribution matrices, we can align the problem more closely. \n",
    "\n",
    "The following properties of matrices allow us to rearrange the equation appropriately. \n",
    "\\begin{equation*}\n",
    "(AB)^{T} = B^{T}A^{T}\n",
    "\\end{equation*}\n",
    "\n",
    "Therefore, the stationary distribution can be arranged as follows:\n",
    "\\begin{equation*}\n",
    "(\\pi P)^{T} = P^{T}\\pi^{T}\n",
    "\\end{equation*}\n",
    "\n",
    "where $\\pi$ starts as a 1x3 row vector and is turned into a 3x1 colun vector. $P$ starts as a 3x3 row matrix and turns into a 3x3 column matrix. \n",
    "\n",
    "**Equivalencies**\n",
    "\n",
    "$M = P^{T}$\n",
    "\n",
    "$v = \\pi^{T}$\n",
    "\n",
    "$\\lambda = 1$"
   ]
  },
  {
   "cell_type": "code",
   "execution_count": 11,
   "metadata": {},
   "outputs": [],
   "source": [
    "P = weather_transitions.get_transition_matrix()\n",
    "\n",
    "P_trans = np.matrix.transpose(np.array(P))"
   ]
  },
  {
   "cell_type": "markdown",
   "metadata": {},
   "source": [
    "**Finding the Stationary Distribution**\n",
    "\n",
    "Since the above equations are equivalent, the stationary distribution of the matrix $P$ is the eigenvector of $P$ with an eigenvalue of 1. \n",
    "\n",
    "[1]: https://brilliant.org/wiki/stationary-distributions/"
   ]
  },
  {
   "cell_type": "code",
   "execution_count": 12,
   "metadata": {},
   "outputs": [
    {
     "name": "stdout",
     "output_type": "stream",
     "text": [
      "P: [[0.8 0.2 0. ]\n",
      " [0.4 0.4 0.2]\n",
      " [0.2 0.6 0.2]]\n",
      "Eigenvalues: [ 1.          0.48284271 -0.08284271]\n",
      "Eigenvectors: \n",
      "[[-0.90913729  0.81251992  0.23258782]\n",
      " [-0.40406102 -0.47596315 -0.79410449]\n",
      " [-0.10101525 -0.33655677  0.56151667]]\n"
     ]
    }
   ],
   "source": [
    "(val, vec) = np.linalg.eig(P_trans)\n",
    "\n",
    "print(\"P: \" + str(P))\n",
    "print(\"Eigenvalues: \" + str(val))\n",
    "print(\"Eigenvectors: \\n\" + str(vec))"
   ]
  },
  {
   "cell_type": "markdown",
   "metadata": {},
   "source": [
    "Here its important to remember we previously transposed the matrix to column vectors. \n",
    "So the vectors we're interested in are in the eigenvector column corresponding to the eigenvalue of 1. "
   ]
  },
  {
   "cell_type": "code",
   "execution_count": 13,
   "metadata": {},
   "outputs": [
    {
     "name": "stdout",
     "output_type": "stream",
     "text": [
      "Eigenvector: \n",
      "[-0.90913729 -0.40406102 -0.10101525]\n"
     ]
    }
   ],
   "source": [
    "eyevec = np.matrix.transpose(vec)[0]\n",
    "print(\"Eigenvector: \\n\" + str(eyevec))"
   ]
  },
  {
   "cell_type": "markdown",
   "metadata": {},
   "source": [
    "Now that we have the eigen vector corresponding to 1, normalize by the sum of the vector. "
   ]
  },
  {
   "cell_type": "code",
   "execution_count": 14,
   "metadata": {},
   "outputs": [
    {
     "name": "stdout",
     "output_type": "stream",
     "text": [
      "Normalized vector: [0.64285714 0.28571429 0.07142857]\n"
     ]
    }
   ],
   "source": [
    "#Normalize by the minimum\n",
    "#eyevec = np.divide(eyevec, np.amin(eyevec))\n",
    "#print()\n",
    "\n",
    "eyevec = np.divide(eyevec, np.sum(eyevec))\n",
    "print(\"Normalized vector: \" + str(eyevec))"
   ]
  },
  {
   "cell_type": "markdown",
   "metadata": {},
   "source": [
    "According to the corresponding normalized eigen vector, the stationary distribution is \n",
    "`[0.64285714 0.28571429 0.07142857]`\n",
    "\n",
    "This matches up to both the book solution AND the experimentally determined solution"
   ]
  },
  {
   "cell_type": "markdown",
   "metadata": {},
   "source": [
    "**Book Solution**"
   ]
  },
  {
   "cell_type": "code",
   "execution_count": 15,
   "metadata": {},
   "outputs": [
    {
     "name": "stdout",
     "output_type": "stream",
     "text": [
      "[0.6428571428571429, 0.2857142857142857, 0.07142857142857142]\n"
     ]
    }
   ],
   "source": [
    "sol = [9/14, 2/7, 1/14]\n",
    "print(sol)"
   ]
  },
  {
   "cell_type": "markdown",
   "metadata": {},
   "source": [
    "# 3. This is similar to the example we did in class - dog’s location with a noisy sensor."
   ]
  },
  {
   "cell_type": "code",
   "execution_count": 16,
   "metadata": {},
   "outputs": [],
   "source": [
    "class NoisySensor(object):\n",
    "    SUNNY = 0\n",
    "    CLOUDY = 1\n",
    "    RAINY = 2\n",
    "    \n",
    "    def __init__(self, noise_model):\n",
    "        # In the model, reach row represents the true weather, \n",
    "        # each column represents the observed weather. \n",
    "        self.model = np.array(noise_model)\n",
    "    \n",
    "    def _validate_weather(self, weather):\n",
    "        \"\"\" Raises exception if invalid weather \"\"\"\n",
    "        if weather not in [self.SUNNY, self.CLOUDY, self.RAINY]:\n",
    "            raise Exception(\"Invalid argument!\")\n",
    "\n",
    "    def likelihood(self, state):\n",
    "        \"\"\"Returns the likelihood the given weather \n",
    "        is the true weather given our noise model\"\"\"\n",
    "        self._validate_weather(state)\n",
    "        \n",
    "        return self.model[:, state]\n",
    "        \n",
    "def plot_pdf(pdf, title=None):\n",
    "    state = [\"sunny\", \"cloudy\", \"rainy\"]\n",
    "    plt.bar(state, pdf)\n",
    "    plt.xlabel(\"State\")\n",
    "    plt.ylabel(\"Probability\")\n",
    "    \n",
    "    if title:\n",
    "        plt.title(title)\n",
    "    else:\n",
    "        plt.title(\"Probability of Weather\")\n",
    "\n",
    "\n",
    "\n",
    "def normalize(reading):\n",
    "    return reading/sum(reading)\n",
    "\n",
    "def update(likelihood, prior):\n",
    "    return normalize(likelihood * prior)\n",
    "        \n",
    "        \n",
    "        \n"
   ]
  },
  {
   "cell_type": "code",
   "execution_count": 17,
   "metadata": {},
   "outputs": [
    {
     "data": {
      "image/png": "[encoded data removed]",
      "text/plain": [
       "<Figure size 432x288 with 1 Axes>"
      ]
     },
     "metadata": {
      "needs_background": "light"
     },
     "output_type": "display_data"
    }
   ],
   "source": [
    "noisy_model = [\n",
    "    [.6, .4, 0],\n",
    "    [.3, .7, 0],\n",
    "    [0, 0, 1]\n",
    "]\n",
    "\n",
    "intial = NoisySensor.SUNNY\n",
    "sensor = NoisySensor(noisy_model)\n",
    "states = [NoisySensor.SUNNY, \\\n",
    "         NoisySensor.CLOUDY, \\\n",
    "         NoisySensor.RAINY]\n",
    "\n",
    "observations = np.array(\n",
    "[NoisySensor.CLOUDY, \\\n",
    " NoisySensor.CLOUDY, \\\n",
    " NoisySensor.RAINY, \\\n",
    " NoisySensor.SUNNY])\n",
    " \n",
    "# Given\n",
    "belief = [1, 0, 0]\n",
    "\n",
    "plot_pdf(belief, \"Starting Belief\")"
   ]
  },
  {
   "cell_type": "markdown",
   "metadata": {},
   "source": [
    "Based on the problem formulation, we know for a fact today is sunny. Therefore, our initial \n",
    "condition is `[1, 0, 0]`. From problem 2, we can simulate tomorrow's weather given today's. \n",
    "This transition matrix serves as the \"dx\" function, turning our belief into a prediction. \n",
    "\n",
    "Our prediction for tomorrow's weather is the **prior** used in the update step. "
   ]
  },
  {
   "cell_type": "code",
   "execution_count": 18,
   "metadata": {},
   "outputs": [
    {
     "data": {
      "image/png": "[encoded data removed]",
      "text/plain": [
       "<Figure size 432x288 with 1 Axes>"
      ]
     },
     "metadata": {
      "needs_background": "light"
     },
     "output_type": "display_data"
    }
   ],
   "source": [
    "# Apply (dx) transition -> now uncertainty of the actual state\n",
    "dx = weather_transitions.get_transition_matrix()\n",
    "dx = np.transpose(dx)\n",
    "prior = np.matmul(dx, np.array(belief))\n",
    "plot_pdf(prior, \"Probability of Tomorrow's Weather\")"
   ]
  },
  {
   "cell_type": "markdown",
   "metadata": {},
   "source": [
    "Given the prior and our sensor noise model, we can can estimate the probability \n",
    "today is cloudy given that we measured it to be. "
   ]
  },
  {
   "cell_type": "code",
   "execution_count": 19,
   "metadata": {},
   "outputs": [
    {
     "name": "stdout",
     "output_type": "stream",
     "text": [
      "[0.69565217 0.30434783 0.        ]\n"
     ]
    },
    {
     "data": {
      "image/png": "[encoded data removed]",
      "text/plain": [
       "<Figure size 432x288 with 1 Axes>"
      ]
     },
     "metadata": {
      "needs_background": "light"
     },
     "output_type": "display_data"
    }
   ],
   "source": [
    "posterior = update(sensor.likelihood(sensor.CLOUDY), prior)\n",
    "plot_pdf(posterior, \"Posterior (Estimate) of Weather\")\n",
    "print(posterior)"
   ]
  },
  {
   "cell_type": "markdown",
   "metadata": {},
   "source": [
    "This estimate is then used  again as the belief on which we apply our transition matrix for the next round of estimates!"
   ]
  },
  {
   "cell_type": "code",
   "execution_count": 20,
   "metadata": {},
   "outputs": [],
   "source": [
    "T = weather_transitions.get_transition_matrix()"
   ]
  },
  {
   "cell_type": "code",
   "execution_count": 21,
   "metadata": {},
   "outputs": [
    {
     "name": "stdout",
     "output_type": "stream",
     "text": [
      "Day 1. Observation: none Estimate: [1, 0, 0]\n",
      "\n",
      "Prior: [0.8 0.2 0. ]\n",
      "Day 2. Observation: 1 Estimate: [0.69565217 0.30434783 0.        ]\n",
      "\n",
      "Prior: [0.67826087 0.26086957 0.06086957]\n",
      "Day 3. Observation: 1 Estimate: [0.59770115 0.40229885 0.        ]\n",
      "\n",
      "Prior: [0.63908046 0.28045977 0.08045977]\n",
      "Day 4. Observation: 2 Estimate: [0. 0. 1.]\n",
      "\n",
      "Prior: [0.2 0.6 0.2]\n",
      "Day 5. Observation: 0 Estimate: [0.4 0.6 0. ]\n",
      "\n",
      "[0.4 0.6 0. ]\n"
     ]
    },
    {
     "data": {
      "image/png": "[encoded data removed]",
      "text/plain": [
       "<Figure size 432x288 with 1 Axes>"
      ]
     },
     "metadata": {
      "needs_background": "light"
     },
     "output_type": "display_data"
    }
   ],
   "source": [
    "### Reset system here so we can run it all at once...\n",
    "estimate = [1, 0, 0]\n",
    "counter = 2\n",
    "print(\"Day {}. Observation: {} Estimate: {}\".format(1, \"none\", estimate))\n",
    "print()\n",
    "\n",
    "for observation in observations:\n",
    "    prior = np.matmul(estimate, T)\n",
    "    print(\"Prior: \" + str(prior))\n",
    "    \n",
    "    #posterior = update(likelihood, prior)\n",
    "    posterior = update(sensor.likelihood(observation), prior)\n",
    "    \n",
    "    #print(\"Day {}. Observation: {} Prior: {}\".format(counter, observation, prior))\n",
    "    #print(sensor.likelihood(observation))\n",
    "    #\n",
    "    estimate = posterior\n",
    "    print(\"Day {}. Observation: {} Estimate: {}\".format(counter, observation, estimate))\n",
    "    print()\n",
    "    counter+=1\n",
    "    #estimate = np.matmul(estimate, np.transpose(T))\n",
    "    #estimate = normalize(estimate)\n",
    "\n",
    "\n",
    "\n",
    "print(normalize(estimate))\n",
    "plot_pdf(estimate, \"Final Estimate for Weather\")"
   ]
  },
  {
   "cell_type": "markdown",
   "metadata": {},
   "source": [
    "## Given sunny, sunny, rainy, what is the most likely weather on each day. \n",
    "For each of the days, what is the most likley observation"
   ]
  },
  {
   "cell_type": "code",
   "execution_count": 22,
   "metadata": {},
   "outputs": [
    {
     "name": "stdout",
     "output_type": "stream",
     "text": [
      "Day 1. Observation: none Estimate: [1, 0, 0]\n",
      "\n"
     ]
    }
   ],
   "source": [
    "# Given\n",
    "p3b_observations = np.array(\n",
    "[NoisySensor.SUNNY, \\\n",
    " NoisySensor.SUNNY, \\\n",
    " NoisySensor.RAINY])\n",
    " \n",
    "\n",
    "estimate = [1, 0, 0]\n",
    "counter = 2\n",
    "print(\"Day {}. Observation: {} Estimate: {}\".format(1, \"none\", estimate))\n",
    "print()"
   ]
  },
  {
   "cell_type": "code",
   "execution_count": 23,
   "metadata": {},
   "outputs": [
    {
     "name": "stdout",
     "output_type": "stream",
     "text": [
      "Prior: [0.8 0.2 0. ]\n",
      "Day 2. Observation: 0 Estimate: [0.88888889 0.11111111 0.        ]\n",
      "\n",
      "Prior: [0.75555556 0.22222222 0.02222222]\n",
      "Day 3. Observation: 0 Estimate: [0.87179487 0.12820513 0.        ]\n",
      "\n",
      "Prior: [0.74871795 0.22564103 0.02564103]\n",
      "Day 4. Observation: 2 Estimate: [0. 0. 1.]\n",
      "\n"
     ]
    },
    {
     "data": {
      "image/png": "[encoded data removed]",
      "text/plain": [
       "<Figure size 432x288 with 1 Axes>"
      ]
     },
     "metadata": {
      "needs_background": "light"
     },
     "output_type": "display_data"
    },
    {
     "data": {
      "image/png": "[encoded data removed]",
      "text/plain": [
       "<Figure size 432x288 with 1 Axes>"
      ]
     },
     "metadata": {
      "needs_background": "light"
     },
     "output_type": "display_data"
    },
    {
     "data": {
      "image/png": "[encoded data removed]",
      "text/plain": [
       "<Figure size 432x288 with 1 Axes>"
      ]
     },
     "metadata": {
      "needs_background": "light"
     },
     "output_type": "display_data"
    }
   ],
   "source": [
    "### Reset system here so we can run it all at once...\n",
    "forward_weather_probabilities=[[1, 0, 0]]\n",
    "\n",
    "\n",
    "for observation in p3b_observations:\n",
    "    prior = np.matmul(estimate, T)\n",
    "    print(\"Prior: \" + str(prior))\n",
    "    \n",
    "    #posterior = update(likelihood, prior)\n",
    "    posterior = update(sensor.likelihood(observation), prior)\n",
    "    \n",
    "    #print(\"Day {}. Observation: {} Prior: {}\".format(counter, observation, prior))\n",
    "    #print(sensor.likelihood(observation))\n",
    "    #\n",
    "    estimate = posterior\n",
    "    forward_weather_probabilities.append(estimate)\n",
    "    print(\"Day {}. Observation: {} Estimate: {}\".format(counter, observation, estimate))\n",
    "    print()\n",
    "    plt.figure()\n",
    "    plot_pdf(estimate, \"Estimate on Day {} for Weather\".format(counter))\n",
    "    counter+=1\n",
    "\n"
   ]
  },
  {
   "cell_type": "markdown",
   "metadata": {},
   "source": [
    "## Now we are asked to use information regarding future measurements to help determine today's measurements. \n",
    "\n",
    "\n",
    "The forward propagation of information was computed as follows. "
   ]
  },
  {
   "cell_type": "markdown",
   "metadata": {},
   "source": [
    "\\begin{equation}\n",
    "posterior_{forward} = p_{measurement} * p_{prior}\n",
    "\\end{equation}\n",
    "\n",
    "\\begin{equation}\n",
    "p_{prior} = transition\\_matrix * belief\n",
    "\\end{equation}"
   ]
  },
  {
   "cell_type": "markdown",
   "metadata": {},
   "source": [
    "Now, we want to incorporate the information given by future weather measurments into today's measurements. \n",
    "In other words, use the measurements from $z[t+1:end]$ to improve posterior estimate $\\bar{X}$ at time $t$\n",
    "\n",
    "\\begin{equation}\n",
    "posterior = p_{today\\_given\\_future} * posterior_{forward}\n",
    "\\end{equation}\n",
    "\n",
    "\\begin{equation}\n",
    "p_{today\\_given\\_future} = p(X | Z_{t+1:end})\n",
    "\\end{equation}\n",
    "\n"
   ]
  },
  {
   "cell_type": "markdown",
   "metadata": {},
   "source": [
    "This process is essentially the reverse of the process we used to calculate \n",
    "the posteriors moving forward except now we're trying to calculate the posteriors \n",
    "in reverse. Now we're starting with a posterior and attempting to work our way\n",
    "backwards to a prior. On the final day, we know for certain that it rained as a\n",
    "result of the rainy measurement. Taking that as a given for the posterior, we can\n",
    "then calculate the probability of yesterday's weather given the transition from\n",
    "yesterday to today. \n",
    "\n",
    "Lets compute the probabilities of transitioning from today to yesterday. We\n",
    "do this by finding the transpose of the original transition matrix and normalizing \n",
    "it by row. Now, each row represents the probability of transitioning to yesterday's \n",
    "weather, given today's weather. "
   ]
  },
  {
   "cell_type": "code",
   "execution_count": 24,
   "metadata": {},
   "outputs": [
    {
     "name": "stdout",
     "output_type": "stream",
     "text": [
      "T: \n",
      "[[0.8 0.2 0. ]\n",
      " [0.4 0.4 0.2]\n",
      " [0.2 0.6 0.2]]\n",
      "\n",
      "[[0.8 0.4 0.2]\n",
      " [0.2 0.4 0.6]\n",
      " [0.  0.2 0.2]]\n",
      "\n",
      "t_yesterday: \n",
      "[[0.57142857 0.28571429 0.14285714]\n",
      " [0.16666667 0.33333333 0.5       ]\n",
      " [0.         0.5        0.5       ]]\n"
     ]
    }
   ],
   "source": [
    "print(\"T: \\n\" + str(T))\n",
    "t_yesterday = np.transpose(T)\n",
    "print()\n",
    "print(t_yesterday)\n",
    "\n",
    "row_sums = t_yesterday.sum(axis=1)\n",
    "t_yesterday = t_yesterday / row_sums[:, np.newaxis]\n",
    "\n",
    "print()\n",
    "print(\"t_yesterday: \\n\" + str(t_yesterday))"
   ]
  },
  {
   "cell_type": "markdown",
   "metadata": {},
   "source": [
    "For example, `t_yesterday[SUNNY, SUNNY]` represents the probability that yesterday \n",
    "was sunny, GIVEN that today is sunny. "
   ]
  },
  {
   "cell_type": "markdown",
   "metadata": {},
   "source": [
    "Given this value, we propogate the posterior of day 4 to a probability of day 3's weather. \n",
    "We also incorporate the likelihood measurements from the sensor of that day in the back\n",
    "propogation. As we continue to search further and further back, we can continue estimating the \n",
    "state of a particular day off of the future measurements and reverse transition matrix. \n",
    "\n",
    "By the end of the observations, we're left with a collection of probabilities, starting at \n",
    "the final measurement and working back to the initial. "
   ]
  },
  {
   "cell_type": "code",
   "execution_count": 25,
   "metadata": {},
   "outputs": [
    {
     "name": "stdout",
     "output_type": "stream",
     "text": [
      "Prior: [0.  0.5 0.5]\n",
      "Probability of  4. Observation: 2 Estimate: [0.  0.5 0.5]\n",
      "\n",
      "Prior: [0.16666667 0.33333333 0.5       ]\n",
      "Probability of  3. Observation: 0 Estimate: [0.16666667 0.33333333 0.5       ]\n",
      "\n",
      "Prior: [0.36904762 0.30952381 0.32142857]\n",
      "Probability of  2. Observation: 0 Estimate: [0.36904762 0.30952381 0.32142857]\n",
      "\n"
     ]
    },
    {
     "data": {
      "image/png": "[encoded data removed]",
      "text/plain": [
       "<Figure size 432x288 with 1 Axes>"
      ]
     },
     "metadata": {
      "needs_background": "light"
     },
     "output_type": "display_data"
    },
    {
     "data": {
      "image/png": "[encoded data removed]",
      "text/plain": [
       "<Figure size 432x288 with 1 Axes>"
      ]
     },
     "metadata": {
      "needs_background": "light"
     },
     "output_type": "display_data"
    },
    {
     "data": {
      "image/png": "[encoded data removed]",
      "text/plain": [
       "<Figure size 432x288 with 1 Axes>"
      ]
     },
     "metadata": {
      "needs_background": "light"
     },
     "output_type": "display_data"
    }
   ],
   "source": [
    "### Reset system here so we can run it all at once...\n",
    "posterior = [0, 0, 1] # Determined b/c we know its raining \n",
    "counter = len(p3b_observations) + 1\n",
    "#plot_pdf(posterior, \"Probability of {}'s Weather Given Measurements {}-{}\".format(counter, counter, len(p3b_observations) + 1))\n",
    "\n",
    "future_weather_probabilities = []\n",
    "future_weather_probabilities.append([0, 0, 1])\n",
    "\n",
    "for observation in p3b_observations[::-1]:\n",
    "    \n",
    "    prior = normalize(posterior * sensor.likelihood(observation))\n",
    "\n",
    "    #plt.figure()\n",
    "    #plot_pdf(prior, \"Probability of {}'s Weather Given Measurements {}-{}\".format(counter-1, counter, len(p3b_observations) + 1))\n",
    "\n",
    "    prior = np.matmul(prior, t_yesterday)\n",
    "    \n",
    "    print(\"Prior: \" + str(prior))\n",
    "    \n",
    "    posterior = prior\n",
    "    future_weather_probabilities.append(posterior)\n",
    "    print(\"Probability of  {}. Observation: {} Estimate: {}\".format(counter, observation, posterior))\n",
    "    print()\n",
    "    plt.figure()\n",
    "    plot_pdf(posterior, \"Probability of {}'s Weather Given Measurements & Transition {}-{}\".format(counter-1, counter, len(p3b_observations) + 1))\n",
    "    counter-=1\n",
    "\n",
    "# Reverse the order so it lines up with the forward propagation\n",
    "# [0] = day3, [2] = day 1 => # [0] = day1, [2] = day 3\n",
    "future_weather_probabilities = future_weather_probabilities[::-1]"
   ]
  },
  {
   "cell_type": "markdown",
   "metadata": {},
   "source": [
    "After we collect these values, we can use them to scale our belief from the forward propagations. \n",
    "To do this, we need to collect the probabilities based on the forward AND backward propogations of\n",
    "sensor information. For each day, we should have a corresponding series of measurements; i.e. the lists \n",
    "should be of the same length"
   ]
  },
  {
   "cell_type": "code",
   "execution_count": 26,
   "metadata": {},
   "outputs": [],
   "source": [
    "def print_probs(title, forward, backward, combined):\n",
    "    print(title)\n",
    "    print(\"Forward Prop: {}\".format(str(forward)))\n",
    "    print(\"Backward Prop: {}\".format(str(backward)))\n",
    "    print(\"Combined Prop: {}\".format(str(combined)))\n",
    "    print()"
   ]
  },
  {
   "cell_type": "code",
   "execution_count": 27,
   "metadata": {},
   "outputs": [],
   "source": [
    "# Just make sure we have the right sizes here\n",
    "assert(len(future_weather_probabilities) == len(forward_weather_probabilities))"
   ]
  },
  {
   "cell_type": "markdown",
   "metadata": {},
   "source": [
    "Based on our equations, the can combine the backward propogations and backward propogations by multiplying the probabilities of each series together and normalizing. \n",
    "\n"
   ]
  },
  {
   "cell_type": "code",
   "execution_count": 28,
   "metadata": {},
   "outputs": [
    {
     "name": "stdout",
     "output_type": "stream",
     "text": [
      "Posteriors for day 1\n",
      "Forward Prop: [1, 0, 0]\n",
      "Backward Prop: [0.36904762 0.30952381 0.32142857]\n",
      "Combined Prop: [1. 0. 0.]\n",
      "\n",
      "Posteriors for day 2\n",
      "Forward Prop: [0.88888889 0.11111111 0.        ]\n",
      "Backward Prop: [0.16666667 0.33333333 0.5       ]\n",
      "Combined Prop: [0.8 0.2 0. ]\n",
      "\n",
      "Posteriors for day 3\n",
      "Forward Prop: [0.87179487 0.12820513 0.        ]\n",
      "Backward Prop: [0.  0.5 0.5]\n",
      "Combined Prop: [0. 1. 0.]\n",
      "\n",
      "Posteriors for day 4\n",
      "Forward Prop: [0. 0. 1.]\n",
      "Backward Prop: [0, 0, 1]\n",
      "Combined Prop: [0. 0. 1.]\n",
      "\n"
     ]
    },
    {
     "data": {
      "image/png": "[encoded data removed]",
      "text/plain": [
       "<Figure size 432x288 with 1 Axes>"
      ]
     },
     "metadata": {
      "needs_background": "light"
     },
     "output_type": "display_data"
    },
    {
     "data": {
      "image/png": "[encoded data removed]",
      "text/plain": [
       "<Figure size 432x288 with 1 Axes>"
      ]
     },
     "metadata": {
      "needs_background": "light"
     },
     "output_type": "display_data"
    },
    {
     "data": {
      "image/png": "[encoded data removed]",
      "text/plain": [
       "<Figure size 432x288 with 1 Axes>"
      ]
     },
     "metadata": {
      "needs_background": "light"
     },
     "output_type": "display_data"
    },
    {
     "data": {
      "image/png": "[encoded data removed]",
      "text/plain": [
       "<Figure size 432x288 with 1 Axes>"
      ]
     },
     "metadata": {
      "needs_background": "light"
     },
     "output_type": "display_data"
    }
   ],
   "source": [
    "final_predications = []\n",
    "for i in range(0, len(forward_weather_probabilities)):\n",
    "    final_predications.append(normalize(forward_weather_probabilities[i]* future_weather_probabilities[i]))\n",
    "\n",
    "    descr = \"Posteriors for day {}\".format(i + 1)\n",
    "    print_probs(descr, forward_weather_probabilities[i], future_weather_probabilities[i], final_predications[i])\n",
    "    plt.figure()\n",
    "    plot_pdf(final_predications[i], \"Final Prediction of Weather Probability for day {}\".format(i + 1))\n",
    "\n"
   ]
  },
  {
   "cell_type": "markdown",
   "metadata": {},
   "source": [
    "Given this sequence, the most likely transitions sequence is S->S->C->R. \n",
    "\n",
    "The probability of this is .8. \n",
    "\n",
    "The alternative option is S->C->C->R which will occur with a probability of .2"
   ]
  },
  {
   "cell_type": "code",
   "execution_count": null,
   "metadata": {},
   "outputs": [],
   "source": []
  }
 ],
 "metadata": {
  "kernelspec": {
   "display_name": "Python 3",
   "language": "python",
   "name": "python3"
  },
  "language_info": {
   "codemirror_mode": {
    "name": "ipython",
    "version": 3
   },
   "file_extension": ".py",
   "mimetype": "text/x-python",
   "name": "python",
   "nbconvert_exporter": "python",
   "pygments_lexer": "ipython3",
   "version": "3.6.1"
  }
 },
 "nbformat": 4,
 "nbformat_minor": 2
}
