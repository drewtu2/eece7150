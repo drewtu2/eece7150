{
 "cells": [
  {
   "cell_type": "code",
   "execution_count": 1,
   "metadata": {},
   "outputs": [
    {
     "name": "stdout",
     "output_type": "stream",
     "text": [
      "Frames per second 29.97002997002997\n"
     ]
    }
   ],
   "source": [
    "import numpy as np\n",
    "import cv2 as cv\n",
    "\n",
    "def show_webcam_harris():\n",
    "    cam = cv.VideoCapture(0)\n",
    "    cv.startWindowThread()\n",
    "    \n",
    "    fps = cam.get(cv.CAP_PROP_FPS)   #not quite! figure out real fps\n",
    "    print(\"Frames per second\", fps)  # with timers\n",
    "    \n",
    "    while True:\n",
    "        ret_val, img = cam.read()  # read frame\n",
    "        \n",
    "        gray = cv.cvtColor(img,cv.COLOR_BGR2GRAY) #convert to grayscale\n",
    "        gray = np.float32(gray)                   # convert to float\n",
    "        dst = cv.cornerHarris(gray,2,3,0.04)      # Harris\n",
    "        #result is dilated for marking the corners, not important\n",
    "        dst = cv.dilate(dst,None)\n",
    "        \n",
    "        # Threshold for an optimal value, it may vary depending on the image.\n",
    "        img[dst>0.005*dst.max()]=[0,0,255]\n",
    "        \n",
    "        cv.imshow('dst my webcam',img)\n",
    "        if cv.waitKey(1) == 27: \n",
    "            break  # esc to quit\n",
    "    cv.waitKey(1)\n",
    "    cam.release()\n",
    "    cv.destroyAllWindows()\n",
    "    cv.waitKey(1)\n",
    "\n",
    "def main():\n",
    "    show_webcam_harris()        \n",
    "\n",
    "if __name__ == '__main__':\n",
    "    main()"
   ]
  },
  {
   "cell_type": "code",
   "execution_count": null,
   "metadata": {},
   "outputs": [],
   "source": []
  },
  {
   "cell_type": "code",
   "execution_count": null,
   "metadata": {},
   "outputs": [],
   "source": []
  },
  {
   "cell_type": "code",
   "execution_count": null,
   "metadata": {},
   "outputs": [],
   "source": []
  },
  {
   "cell_type": "code",
   "execution_count": null,
   "metadata": {},
   "outputs": [],
   "source": []
  }
 ],
 "metadata": {
  "kernelspec": {
   "display_name": "Python 3",
   "language": "python",
   "name": "python3"
  },
  "language_info": {
   "codemirror_mode": {
    "name": "ipython",
    "version": 3
   },
   "file_extension": ".py",
   "mimetype": "text/x-python",
   "name": "python",
   "nbconvert_exporter": "python",
   "pygments_lexer": "ipython3",
   "version": "3.6.1"
  }
 },
 "nbformat": 4,
 "nbformat_minor": 2
}
