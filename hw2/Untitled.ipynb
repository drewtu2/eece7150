{
 "cells": [
  {
   "cell_type": "code",
   "execution_count": 1,
   "metadata": {},
   "outputs": [],
   "source": [
    "import webcam\n",
    "import cv2 as cv\n",
    "import numpy as np\n",
    "import matplotlib.pyplot as plt"
   ]
  },
  {
   "cell_type": "code",
   "execution_count": 2,
   "metadata": {},
   "outputs": [],
   "source": [
    "def add_fps(img, timer):\n",
    "  font                   = cv.FONT_HERSHEY_SIMPLEX\n",
    "  bottomLeftCornerOfText = (10,30)\n",
    "  fontScale              = 1\n",
    "  fontColor              = (255,0,0)\n",
    "  lineType               = 2\n",
    "\n",
    "  texts = [\n",
    "    \"Total FPS: \" + str(timer.get_fps(\"total\")),\n",
    "    \"Read Time %: \" + str(timer.get_time_percentage(\"read\")),\n",
    "    \"Conversion Time %: \" + str(timer.get_time_percentage(\"conversion\")),\n",
    "    \"Harris Time %: \" + str(timer.get_time_percentage(\"harris_corner\")),\n",
    "    \"Dilation Time %: \" + str(timer.get_time_percentage(\"dilation\")),\n",
    "    \"Thresholding Time %: \" + str(timer.get_time_percentage(\"thresholding\"))\n",
    "  ]\n",
    "\n",
    "  count = 0\n",
    "  for text in texts:\n",
    "    if count == 0:\n",
    "      fontScale = 1\n",
    "    else:\n",
    "      fontScale = .5\n",
    "\n",
    "    bottomLeftCornerOfText = (10, 30 + count*30)\n",
    "    cv.putText(img, text, \n",
    "        bottomLeftCornerOfText, \n",
    "        font, \n",
    "        fontScale,\n",
    "        fontColor,\n",
    "        lineType)\n",
    "    \n",
    "    count += 1\n",
    "  return img "
   ]
  },
  {
   "cell_type": "code",
   "execution_count": 3,
   "metadata": {},
   "outputs": [],
   "source": [
    "import signal\n",
    "import sys\n",
    "def signal_handler(signal, frame):\n",
    "        print('You pressed Ctrl+C!')\n",
    "        sys.exit(0)"
   ]
  },
  {
   "cell_type": "code",
   "execution_count": 4,
   "metadata": {},
   "outputs": [],
   "source": [
    "def show_webcam_harris():\n",
    "    cam = cv.VideoCapture(\"imgs/isec_vid.MOV\")\n",
    "    cv.startWindowThread()\n",
    "    \n",
    "    fps = cam.get(cv.CAP_PROP_FPS)   #not quite! figure out real fps\n",
    "    print(\"Frames per second\", fps)  # with timers\n",
    "    \n",
    "    \n",
    "    signal.signal(signal.SIGINT, signal_handler)\n",
    "    is_interrupted = False\n",
    "    \n",
    "    mtime = webcam.TimeRecord()\n",
    "    while True:\n",
    "        mtime.start(\"total\")\n",
    "        mtime.start(\"read\")\n",
    "        ret_val, img = cam.read()  # read frame\n",
    "        mtime.end(\"read\")\n",
    "\n",
    "        if img is None:\n",
    "            pass\n",
    "\n",
    "        mtime.start(\"conversion\")\n",
    "        gray = cv.cvtColor(img,cv.COLOR_BGR2GRAY) #convert to grayscale\n",
    "        gray = np.float32(gray)                   # convert to float\n",
    "        mtime.end(\"conversion\")\n",
    "\n",
    "        mtime.start(\"harris_corner\")\n",
    "        dst = cv.cornerHarris(gray,2,3,0.04)      # Harris\n",
    "        mtime.end(\"harris_corner\")\n",
    "\n",
    "        #result is dilated for marking the corners, not important\n",
    "        mtime.start(\"dilation\")\n",
    "        dst = cv.dilate(dst,None)\n",
    "        mtime.end(\"dilation\")\n",
    "\n",
    "        # Threshold for an optimal value, it may vary depending on the image.\n",
    "        mtime.start(\"thresholding\")\n",
    "        img[dst>0.005*dst.max()]=[0,0,255]\n",
    "        mtime.end(\"thresholding\")\n",
    "        mtime.end(\"total\")\n",
    "        mtime.iterate()\n",
    "\n",
    "        img = add_fps(img, mtime)\n",
    "        # load image using cv2....and do processing.\n",
    "        #plt.imshow(cv.cvtColor(img, cv.COLOR_BGR2RGB))\n",
    "        # as opencv loads in BGR format by default, we want to show it in RGB.\n",
    "        #plt.show()\n",
    "        \n",
    "        display.clear_output(wait=True)\n",
    "        display.display(plt.gcf())\n",
    "        \n",
    "        vc = cv2.VideoCapture(0)\n",
    "\n",
    "        plt.ion()\n",
    "\n",
    "        frame = cv2.cvtColor(frame, cv2.COLOR_BGR2RGB)    # makes the blues image look real colored\n",
    "        webcam_preview.set_data(frame)\n",
    "        plt.draw()\n",
    "\n",
    "        try:    # Avoids a NotImplementedError caused by `plt.pause`\n",
    "            plt.pause(0.05)\n",
    "        except Exception:\n",
    "            pass\n",
    "        if is_interrupted:\n",
    "            vc.release()\n",
    "            break\n",
    "        \n",
    "    print(\"Destroying window\")\n",
    "    cv.waitKey(33)\n",
    "    cv.destroyAllWindows()\n",
    "    cv.waitKey(33)\n",
    "    cam.release()\n",
    "    cv.waitKey(33)"
   ]
  },
  {
   "cell_type": "code",
   "execution_count": 5,
   "metadata": {
    "scrolled": false
   },
   "outputs": [
    {
     "name": "stdout",
     "output_type": "stream",
     "text": [
      "Frames per second 29.977081741787625\n"
     ]
    },
    {
     "ename": "AttributeError",
     "evalue": "'function' object has no attribute 'clear_output'",
     "output_type": "error",
     "traceback": [
      "\u001b[0;31m---------------------------------------------------------------------------\u001b[0m",
      "\u001b[0;31mAttributeError\u001b[0m                            Traceback (most recent call last)",
      "\u001b[0;32m<ipython-input-5-45d3f3cc8dbd>\u001b[0m in \u001b[0;36m<module>\u001b[0;34m\u001b[0m\n\u001b[1;32m      1\u001b[0m \u001b[0mget_ipython\u001b[0m\u001b[0;34m(\u001b[0m\u001b[0;34m)\u001b[0m\u001b[0;34m.\u001b[0m\u001b[0mrun_line_magic\u001b[0m\u001b[0;34m(\u001b[0m\u001b[0;34m'matplotlib'\u001b[0m\u001b[0;34m,\u001b[0m \u001b[0;34m'notebook '\u001b[0m\u001b[0;34m)\u001b[0m\u001b[0;34m\u001b[0m\u001b[0m\n\u001b[0;32m----> 2\u001b[0;31m \u001b[0mshow_webcam_harris\u001b[0m\u001b[0;34m(\u001b[0m\u001b[0;34m)\u001b[0m\u001b[0;34m\u001b[0m\u001b[0m\n\u001b[0m",
      "\u001b[0;32m<ipython-input-4-8031443c760e>\u001b[0m in \u001b[0;36mshow_webcam_harris\u001b[0;34m()\u001b[0m\n\u001b[1;32m     47\u001b[0m         \u001b[0;31m#plt.show()\u001b[0m\u001b[0;34m\u001b[0m\u001b[0;34m\u001b[0m\u001b[0m\n\u001b[1;32m     48\u001b[0m \u001b[0;34m\u001b[0m\u001b[0m\n\u001b[0;32m---> 49\u001b[0;31m         \u001b[0mdisplay\u001b[0m\u001b[0;34m.\u001b[0m\u001b[0mclear_output\u001b[0m\u001b[0;34m(\u001b[0m\u001b[0mwait\u001b[0m\u001b[0;34m=\u001b[0m\u001b[0;32mTrue\u001b[0m\u001b[0;34m)\u001b[0m\u001b[0;34m\u001b[0m\u001b[0m\n\u001b[0m\u001b[1;32m     50\u001b[0m         \u001b[0mdisplay\u001b[0m\u001b[0;34m.\u001b[0m\u001b[0mdisplay\u001b[0m\u001b[0;34m(\u001b[0m\u001b[0mplt\u001b[0m\u001b[0;34m.\u001b[0m\u001b[0mgcf\u001b[0m\u001b[0;34m(\u001b[0m\u001b[0;34m)\u001b[0m\u001b[0;34m)\u001b[0m\u001b[0;34m\u001b[0m\u001b[0m\n\u001b[1;32m     51\u001b[0m \u001b[0;34m\u001b[0m\u001b[0m\n",
      "\u001b[0;31mAttributeError\u001b[0m: 'function' object has no attribute 'clear_output'"
     ]
    }
   ],
   "source": [
    "%matplotlib notebook \n",
    "show_webcam_harris()"
   ]
  },
  {
   "cell_type": "code",
   "execution_count": null,
   "metadata": {},
   "outputs": [],
   "source": []
  }
 ],
 "metadata": {
  "kernelspec": {
   "display_name": "Python 3",
   "language": "python",
   "name": "python3"
  },
  "language_info": {
   "codemirror_mode": {
    "name": "ipython",
    "version": 3
   },
   "file_extension": ".py",
   "mimetype": "text/x-python",
   "name": "python",
   "nbconvert_exporter": "python",
   "pygments_lexer": "ipython3",
   "version": "3.6.1"
  }
 },
 "nbformat": 4,
 "nbformat_minor": 2
}
